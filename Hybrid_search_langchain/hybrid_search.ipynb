{
 "cells": [
  {
   "cell_type": "markdown",
   "id": "ddf8b4a4",
   "metadata": {},
   "source": [
    "# HYBRID SEARCH"
   ]
  },
  {
   "cell_type": "code",
   "execution_count": 1,
   "id": "5f78d1ac",
   "metadata": {},
   "outputs": [
    {
     "name": "stdout",
     "output_type": "stream",
     "text": [
      "Note: you may need to restart the kernel to use updated packages.\n"
     ]
    }
   ],
   "source": [
    "pip install --upgrade --quiet pinecone-client pinecone-text pinecone-notebooks"
   ]
  },
  {
   "cell_type": "code",
   "execution_count": 2,
   "id": "f717f2e1",
   "metadata": {},
   "outputs": [],
   "source": [
    "from dotenv import load_dotenv\n",
    "import os\n",
    "load_dotenv()\n",
    "\n",
    "api_key = os.getenv('PINECONE_API_KEY')"
   ]
  },
  {
   "cell_type": "code",
   "execution_count": 3,
   "id": "563235e2",
   "metadata": {},
   "outputs": [],
   "source": [
    "from langchain_community.retrievers import PineconeHybridSearchRetriever\n",
    "## responsible in doing both sematic search (dense vectors) and keyword search ( sparse vectors)"
   ]
  },
  {
   "cell_type": "code",
   "execution_count": 4,
   "id": "6fa94c98",
   "metadata": {},
   "outputs": [],
   "source": [
    "from pinecone import Pinecone,ServerlessSpec\n",
    "index_name = \"hybrid-search-langchain-pinecone\"\n",
    "\n",
    "## initialize the pinecone client\n",
    "pc = Pinecone(api_key)\n",
    "\n",
    "## create the index\n",
    "if index_name not in pc.list_indexes().names():\n",
    "    pc.create_index(\n",
    "        name = index_name,\n",
    "        dimension= 384, ## dimension of dense vector \n",
    "        metric= 'dotproduct',  ## sparse values supported only for dotproduct\n",
    "        spec = ServerlessSpec(cloud='aws',region='us-east-1')\n",
    "        \n",
    "    )"
   ]
  },
  {
   "cell_type": "code",
   "execution_count": 5,
   "id": "d2d880f1",
   "metadata": {},
   "outputs": [
    {
     "data": {
      "text/plain": [
       "<pinecone.db_data.index.Index at 0x23cbb77ea40>"
      ]
     },
     "execution_count": 5,
     "metadata": {},
     "output_type": "execute_result"
    }
   ],
   "source": [
    "index = pc.Index(index_name)\n",
    "index"
   ]
  },
  {
   "cell_type": "code",
   "execution_count": null,
   "id": "11ac3f9a",
   "metadata": {},
   "outputs": [],
   "source": []
  },
  {
   "cell_type": "code",
   "execution_count": null,
   "id": "b8add754",
   "metadata": {},
   "outputs": [],
   "source": [
    "## vector embedding \n",
    "from langchain_huggingface import HuggingFaceEmbeddings\n",
    "os.environ[\"HF_TOKEN\"] = os.getenv(\"HF_TOKEN\")\n",
    "embedding = HuggingFaceEmbeddings(model_name='all-MiniLM-L6-v2')"
   ]
  },
  {
   "cell_type": "code",
   "execution_count": 8,
   "id": "20d54f48",
   "metadata": {},
   "outputs": [
    {
     "data": {
      "text/plain": [
       "HuggingFaceEmbeddings(model_name='all-MiniLM-L6-v2', cache_folder=None, model_kwargs={}, encode_kwargs={}, query_encode_kwargs={}, multi_process=False, show_progress=False)"
      ]
     },
     "execution_count": 8,
     "metadata": {},
     "output_type": "execute_result"
    }
   ],
   "source": [
    "embedding"
   ]
  },
  {
   "cell_type": "code",
   "execution_count": 9,
   "id": "35312bef",
   "metadata": {},
   "outputs": [
    {
     "data": {
      "text/plain": [
       "<pinecone_text.sparse.bm25_encoder.BM25Encoder at 0x23c82433cd0>"
      ]
     },
     "execution_count": 9,
     "metadata": {},
     "output_type": "execute_result"
    }
   ],
   "source": [
    "## sparse embedding\n",
    "from pinecone_text.sparse import BM25Encoder ## used tf-idf\n",
    "\n",
    "encoder = BM25Encoder().default()  ## default is tf-idf\n",
    "encoder"
   ]
  },
  {
   "cell_type": "code",
   "execution_count": 10,
   "id": "1dda7d0e",
   "metadata": {},
   "outputs": [
    {
     "data": {
      "application/vnd.jupyter.widget-view+json": {
       "model_id": "d75c71107cd6478dbada9366acf2bed3",
       "version_major": 2,
       "version_minor": 0
      },
      "text/plain": [
       "  0%|          | 0/3 [00:00<?, ?it/s]"
      ]
     },
     "metadata": {},
     "output_type": "display_data"
    }
   ],
   "source": [
    "sentences = [\n",
    "  \"In 1913, the world's first crossword puzzle was published in the New York World newspaper.\",\n",
    "  \"In Rust, the borrow checker ensures memory safety without a garbage collector.\",\n",
    "  \"In the depths of the Mariana Trench, pressure exceeds 1000 times that at sea level.\"\n",
    "]\n",
    "\n",
    "## tf-idf values on these sentences\n",
    "encoder.fit(sentences)\n",
    "\n",
    "## store the values to a JSON file\n",
    "encoder.dump(\"bm25_values.json\")\n",
    "\n",
    "## load to your BM25Encoder object\n",
    "encoder = BM25Encoder().load(\"bm25_values.json\")"
   ]
  },
  {
   "cell_type": "code",
   "execution_count": 11,
   "id": "d2c0b38b",
   "metadata": {},
   "outputs": [
    {
     "data": {
      "text/plain": [
       "<pinecone_text.sparse.bm25_encoder.BM25Encoder at 0x23c824455d0>"
      ]
     },
     "execution_count": 11,
     "metadata": {},
     "output_type": "execute_result"
    }
   ],
   "source": [
    "encoder"
   ]
  },
  {
   "cell_type": "code",
   "execution_count": 18,
   "id": "5a6502cf",
   "metadata": {},
   "outputs": [],
   "source": [
    "retriever = PineconeHybridSearchRetriever(embeddings=embedding,sparse_encoder=encoder,index=index)"
   ]
  },
  {
   "cell_type": "code",
   "execution_count": 19,
   "id": "79c9f5ef",
   "metadata": {},
   "outputs": [
    {
     "data": {
      "text/plain": [
       "PineconeHybridSearchRetriever(embeddings=HuggingFaceEmbeddings(model_name='all-MiniLM-L6-v2', cache_folder=None, model_kwargs={}, encode_kwargs={}, query_encode_kwargs={}, multi_process=False, show_progress=False), sparse_encoder=<pinecone_text.sparse.bm25_encoder.BM25Encoder object at 0x0000023C824455D0>, index=<pinecone.db_data.index.Index object at 0x0000023CBB77EA40>)"
      ]
     },
     "execution_count": 19,
     "metadata": {},
     "output_type": "execute_result"
    }
   ],
   "source": [
    "retriever"
   ]
  },
  {
   "cell_type": "code",
   "execution_count": 20,
   "id": "c6871bbd",
   "metadata": {},
   "outputs": [
    {
     "data": {
      "application/vnd.jupyter.widget-view+json": {
       "model_id": "eed87056f66148b5ad9b51bcb3f435fd",
       "version_major": 2,
       "version_minor": 0
      },
      "text/plain": [
       "  0%|          | 0/1 [00:00<?, ?it/s]"
      ]
     },
     "metadata": {},
     "output_type": "display_data"
    }
   ],
   "source": [
    "retriever.add_texts(\n",
    "    [\n",
    "        \"In 1913, the world's first crossword puzzle was published in the New York World newspaper.\",\n",
    "  \"In Rust, the borrow checker ensures memory safety without a garbage collector.\",\n",
    "  \"In the depths of the Mariana Trench, pressure exceeds 1000 times that at sea level.\"\n",
    "    ]\n",
    ")"
   ]
  },
  {
   "cell_type": "code",
   "execution_count": 23,
   "id": "5d9247de",
   "metadata": {},
   "outputs": [
    {
     "data": {
      "text/plain": [
       "[Document(metadata={'score': 0.621355891}, page_content=\"In 1913, the world's first crossword puzzle was published in the New York World newspaper.\"),\n",
       " Document(metadata={'score': 0.0489597321}, page_content='In the depths of the Mariana Trench, pressure exceeds 1000 times that at sea level.'),\n",
       " Document(metadata={'score': 0.0127863884}, page_content='In Rust, the borrow checker ensures memory safety without a garbage collector.')]"
      ]
     },
     "execution_count": 23,
     "metadata": {},
     "output_type": "execute_result"
    }
   ],
   "source": [
    "retriever.invoke(\"when and where was the world's first crossword puzzle published?\")"
   ]
  }
 ],
 "metadata": {
  "kernelspec": {
   "display_name": "Python 3",
   "language": "python",
   "name": "python3"
  },
  "language_info": {
   "codemirror_mode": {
    "name": "ipython",
    "version": 3
   },
   "file_extension": ".py",
   "mimetype": "text/x-python",
   "name": "python",
   "nbconvert_exporter": "python",
   "pygments_lexer": "ipython3",
   "version": "3.10.18"
  }
 },
 "nbformat": 4,
 "nbformat_minor": 5
}
